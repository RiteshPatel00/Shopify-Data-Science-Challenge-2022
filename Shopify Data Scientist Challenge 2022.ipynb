{
 "cells": [
  {
   "cell_type": "markdown",
   "metadata": {},
   "source": [
    "# Question 1 a)"
   ]
  },
  {
   "cell_type": "markdown",
   "metadata": {},
   "source": [
    "Running the code below on our dataset we get some insight as to where we got this naive solution of $3145.13, it happens to be the mean value of the order_amount which would be the average of the amount that is typically ordered across all 100 sneaker stores. But there is a problem with this approach:\n",
    "\n",
    "- There may be outliers that skew the average order value"
   ]
  },
  {
   "cell_type": "code",
   "execution_count": 2,
   "metadata": {},
   "outputs": [
    {
     "data": {
      "text/html": [
       "<div>\n",
       "<style scoped>\n",
       "    .dataframe tbody tr th:only-of-type {\n",
       "        vertical-align: middle;\n",
       "    }\n",
       "\n",
       "    .dataframe tbody tr th {\n",
       "        vertical-align: top;\n",
       "    }\n",
       "\n",
       "    .dataframe thead th {\n",
       "        text-align: right;\n",
       "    }\n",
       "</style>\n",
       "<table border=\"1\" class=\"dataframe\">\n",
       "  <thead>\n",
       "    <tr style=\"text-align: right;\">\n",
       "      <th></th>\n",
       "      <th>order_id</th>\n",
       "      <th>shop_id</th>\n",
       "      <th>user_id</th>\n",
       "      <th>order_amount</th>\n",
       "      <th>total_items</th>\n",
       "    </tr>\n",
       "  </thead>\n",
       "  <tbody>\n",
       "    <tr>\n",
       "      <td>count</td>\n",
       "      <td>5000.000000</td>\n",
       "      <td>5000.000000</td>\n",
       "      <td>5000.000000</td>\n",
       "      <td>5000.000000</td>\n",
       "      <td>5000.00000</td>\n",
       "    </tr>\n",
       "    <tr>\n",
       "      <td>mean</td>\n",
       "      <td>2500.500000</td>\n",
       "      <td>50.078800</td>\n",
       "      <td>849.092400</td>\n",
       "      <td>3145.128000</td>\n",
       "      <td>8.78720</td>\n",
       "    </tr>\n",
       "    <tr>\n",
       "      <td>std</td>\n",
       "      <td>1443.520003</td>\n",
       "      <td>29.006118</td>\n",
       "      <td>87.798982</td>\n",
       "      <td>41282.539349</td>\n",
       "      <td>116.32032</td>\n",
       "    </tr>\n",
       "    <tr>\n",
       "      <td>min</td>\n",
       "      <td>1.000000</td>\n",
       "      <td>1.000000</td>\n",
       "      <td>607.000000</td>\n",
       "      <td>90.000000</td>\n",
       "      <td>1.00000</td>\n",
       "    </tr>\n",
       "    <tr>\n",
       "      <td>25%</td>\n",
       "      <td>1250.750000</td>\n",
       "      <td>24.000000</td>\n",
       "      <td>775.000000</td>\n",
       "      <td>163.000000</td>\n",
       "      <td>1.00000</td>\n",
       "    </tr>\n",
       "    <tr>\n",
       "      <td>50%</td>\n",
       "      <td>2500.500000</td>\n",
       "      <td>50.000000</td>\n",
       "      <td>849.000000</td>\n",
       "      <td>284.000000</td>\n",
       "      <td>2.00000</td>\n",
       "    </tr>\n",
       "    <tr>\n",
       "      <td>75%</td>\n",
       "      <td>3750.250000</td>\n",
       "      <td>75.000000</td>\n",
       "      <td>925.000000</td>\n",
       "      <td>390.000000</td>\n",
       "      <td>3.00000</td>\n",
       "    </tr>\n",
       "    <tr>\n",
       "      <td>max</td>\n",
       "      <td>5000.000000</td>\n",
       "      <td>100.000000</td>\n",
       "      <td>999.000000</td>\n",
       "      <td>704000.000000</td>\n",
       "      <td>2000.00000</td>\n",
       "    </tr>\n",
       "  </tbody>\n",
       "</table>\n",
       "</div>"
      ],
      "text/plain": [
       "          order_id      shop_id      user_id   order_amount  total_items\n",
       "count  5000.000000  5000.000000  5000.000000    5000.000000   5000.00000\n",
       "mean   2500.500000    50.078800   849.092400    3145.128000      8.78720\n",
       "std    1443.520003    29.006118    87.798982   41282.539349    116.32032\n",
       "min       1.000000     1.000000   607.000000      90.000000      1.00000\n",
       "25%    1250.750000    24.000000   775.000000     163.000000      1.00000\n",
       "50%    2500.500000    50.000000   849.000000     284.000000      2.00000\n",
       "75%    3750.250000    75.000000   925.000000     390.000000      3.00000\n",
       "max    5000.000000   100.000000   999.000000  704000.000000   2000.00000"
      ]
     },
     "execution_count": 2,
     "metadata": {},
     "output_type": "execute_result"
    }
   ],
   "source": [
    "import pandas as pd\n",
    "\n",
    "df = pd.read_csv(\"2019 Winter Data Science Intern Challenge Data Set - Sheet1.csv\")\n",
    "\n",
    "df.describe()"
   ]
  },
  {
   "cell_type": "markdown",
   "metadata": {},
   "source": [
    "Solution: Let's group the data by the shop_id and then plot the data out to see which stores have an abnormally high order_amount"
   ]
  },
  {
   "cell_type": "code",
   "execution_count": 3,
   "metadata": {},
   "outputs": [
    {
     "name": "stdout",
     "output_type": "stream",
     "text": [
      "            order_id     user_id  order_amount  total_items\n",
      "shop_id                                                    \n",
      "1        2514.568182  833.613636    308.818182     1.954545\n",
      "2        2299.054545  861.272727    174.327273     1.854545\n",
      "3        2305.875000  847.708333    305.250000     2.062500\n",
      "4        2747.607843  866.450980    258.509804     2.019608\n",
      "5        2498.288889  862.222222    290.311111     2.044444\n",
      "...              ...         ...           ...          ...\n",
      "96       2496.176471  865.411765    330.000000     2.156863\n",
      "97       2508.604167  844.625000    324.000000     2.000000\n",
      "98       2470.862069  866.793103    245.362069     1.844828\n",
      "99       2386.000000  846.166667    339.444444     1.740741\n",
      "100      2356.525000  852.325000    213.675000     1.925000\n",
      "\n",
      "[100 rows x 4 columns]\n"
     ]
    }
   ],
   "source": [
    "#Group the shop_id column\n",
    "grouped_df = df.groupby(\"shop_id\")\n",
    "\n",
    "\n",
    "#Get the mean order_amount for each shop_id\n",
    "mean_df = grouped_df.mean()\n",
    "print(mean_df)\n"
   ]
  },
  {
   "cell_type": "code",
   "execution_count": 4,
   "metadata": {},
   "outputs": [
    {
     "data": {
      "text/plain": [
       "<Figure size 640x480 with 1 Axes>"
      ]
     },
     "metadata": {},
     "output_type": "display_data"
    }
   ],
   "source": [
    "import matplotlib.pyplot as plt\n",
    "plt.plot(mean_df['order_amount'])\n",
    "plt.show()"
   ]
  },
  {
   "cell_type": "markdown",
   "metadata": {},
   "source": [
    "Observing the graph above, we can see that there are two stores that are abnormally high AOV's, let's sort the data frame in order to see which stores this could be"
   ]
  },
  {
   "cell_type": "code",
   "execution_count": 5,
   "metadata": {},
   "outputs": [
    {
     "name": "stdout",
     "output_type": "stream",
     "text": [
      "            order_id     user_id   order_amount  total_items\n",
      "shop_id                                                     \n",
      "42       2441.921569  758.588235  235101.490196   667.901961\n",
      "78       2663.021739  867.739130   49213.043478     1.913043\n",
      "50       2162.431818  834.500000     403.545455     2.090909\n",
      "90       2694.163265  839.857143     403.224490     2.265306\n",
      "38       2639.714286  837.800000     390.857143     2.057143\n",
      "...              ...         ...            ...          ...\n",
      "53       2393.411765  858.544118     214.117647     1.911765\n",
      "100      2356.525000  852.325000     213.675000     1.925000\n",
      "32       2299.071429  856.809524     189.976190     1.880952\n",
      "2        2299.054545  861.272727     174.327273     1.854545\n",
      "92       2449.142857  865.095238     162.857143     1.809524\n",
      "\n",
      "[100 rows x 4 columns]\n"
     ]
    }
   ],
   "source": [
    "sorted_mean_df = mean_df.sort_values(by=['order_amount'], ascending=False)\n",
    "print(sorted_mean_df)"
   ]
  },
  {
   "cell_type": "markdown",
   "metadata": {},
   "source": [
    "There seems to be 2 Shopify Stores that are causing an issue in our AOV calculation and skewing the data, shop 42 and shop 78, let's go back to our original data set and now find the AOV without including these stores by filtering them in order to get a better estimate of the average order value."
   ]
  },
  {
   "cell_type": "code",
   "execution_count": 6,
   "metadata": {},
   "outputs": [
    {
     "data": {
      "text/html": [
       "<div>\n",
       "<style scoped>\n",
       "    .dataframe tbody tr th:only-of-type {\n",
       "        vertical-align: middle;\n",
       "    }\n",
       "\n",
       "    .dataframe tbody tr th {\n",
       "        vertical-align: top;\n",
       "    }\n",
       "\n",
       "    .dataframe thead th {\n",
       "        text-align: right;\n",
       "    }\n",
       "</style>\n",
       "<table border=\"1\" class=\"dataframe\">\n",
       "  <thead>\n",
       "    <tr style=\"text-align: right;\">\n",
       "      <th></th>\n",
       "      <th>order_id</th>\n",
       "      <th>shop_id</th>\n",
       "      <th>user_id</th>\n",
       "      <th>order_amount</th>\n",
       "      <th>total_items</th>\n",
       "    </tr>\n",
       "  </thead>\n",
       "  <tbody>\n",
       "    <tr>\n",
       "      <td>count</td>\n",
       "      <td>4903.000000</td>\n",
       "      <td>4903.000000</td>\n",
       "      <td>4903.000000</td>\n",
       "      <td>4903.000000</td>\n",
       "      <td>4903.000000</td>\n",
       "    </tr>\n",
       "    <tr>\n",
       "      <td>mean</td>\n",
       "      <td>2499.584540</td>\n",
       "      <td>49.900877</td>\n",
       "      <td>849.858862</td>\n",
       "      <td>300.155823</td>\n",
       "      <td>1.995717</td>\n",
       "    </tr>\n",
       "    <tr>\n",
       "      <td>std</td>\n",
       "      <td>1444.221163</td>\n",
       "      <td>29.154367</td>\n",
       "      <td>86.887947</td>\n",
       "      <td>155.941112</td>\n",
       "      <td>0.982602</td>\n",
       "    </tr>\n",
       "    <tr>\n",
       "      <td>min</td>\n",
       "      <td>1.000000</td>\n",
       "      <td>1.000000</td>\n",
       "      <td>700.000000</td>\n",
       "      <td>90.000000</td>\n",
       "      <td>1.000000</td>\n",
       "    </tr>\n",
       "    <tr>\n",
       "      <td>25%</td>\n",
       "      <td>1246.500000</td>\n",
       "      <td>24.000000</td>\n",
       "      <td>776.000000</td>\n",
       "      <td>163.000000</td>\n",
       "      <td>1.000000</td>\n",
       "    </tr>\n",
       "    <tr>\n",
       "      <td>50%</td>\n",
       "      <td>2499.000000</td>\n",
       "      <td>50.000000</td>\n",
       "      <td>850.000000</td>\n",
       "      <td>284.000000</td>\n",
       "      <td>2.000000</td>\n",
       "    </tr>\n",
       "    <tr>\n",
       "      <td>75%</td>\n",
       "      <td>3750.500000</td>\n",
       "      <td>74.000000</td>\n",
       "      <td>925.000000</td>\n",
       "      <td>386.500000</td>\n",
       "      <td>3.000000</td>\n",
       "    </tr>\n",
       "    <tr>\n",
       "      <td>max</td>\n",
       "      <td>5000.000000</td>\n",
       "      <td>100.000000</td>\n",
       "      <td>999.000000</td>\n",
       "      <td>1086.000000</td>\n",
       "      <td>8.000000</td>\n",
       "    </tr>\n",
       "  </tbody>\n",
       "</table>\n",
       "</div>"
      ],
      "text/plain": [
       "          order_id      shop_id      user_id  order_amount  total_items\n",
       "count  4903.000000  4903.000000  4903.000000   4903.000000  4903.000000\n",
       "mean   2499.584540    49.900877   849.858862    300.155823     1.995717\n",
       "std    1444.221163    29.154367    86.887947    155.941112     0.982602\n",
       "min       1.000000     1.000000   700.000000     90.000000     1.000000\n",
       "25%    1246.500000    24.000000   776.000000    163.000000     1.000000\n",
       "50%    2499.000000    50.000000   850.000000    284.000000     2.000000\n",
       "75%    3750.500000    74.000000   925.000000    386.500000     3.000000\n",
       "max    5000.000000   100.000000   999.000000   1086.000000     8.000000"
      ]
     },
     "execution_count": 6,
     "metadata": {},
     "output_type": "execute_result"
    }
   ],
   "source": [
    "#Filter out shop 42 and 78\n",
    "filtered_df = df.query(\"shop_id != '42' \\\n",
    "                       and shop_id != '78'\")\n",
    "\n",
    "filtered_df.describe()"
   ]
  },
  {
   "cell_type": "markdown",
   "metadata": {},
   "source": [
    "This gives us a much more realistic AOV of $300.16 rounded to the nearest cent, which is inline with shops that sell sneakers"
   ]
  },
  {
   "cell_type": "markdown",
   "metadata": {},
   "source": [
    "# Question 1 b)"
   ]
  },
  {
   "cell_type": "markdown",
   "metadata": {},
   "source": [
    "I would report three metrics for this dataset, the AOV with the noisy data filtered out, the median order value and the modal order value (i.e the mode), this will give us a much more reasonable overview of the dataset. If we want to increase the value of our orders then we need the metrics that measure our data's central tendency (mean, median and mode) however no measure of central tendency is best, but using only one is certainly the worst hence why we should report three metrics. "
   ]
  },
  {
   "cell_type": "markdown",
   "metadata": {},
   "source": [
    "# Question 1 c)"
   ]
  },
  {
   "cell_type": "markdown",
   "metadata": {},
   "source": [
    "- AOV with outliers filtered (mean) = $300.16\n",
    "\n",
    "- Median order value (analyzed below) = $284.00\n",
    "\n",
    "- Modal order value (analyzed below) = $153.00"
   ]
  },
  {
   "cell_type": "code",
   "execution_count": 19,
   "metadata": {},
   "outputs": [
    {
     "data": {
      "text/plain": [
       "284.0"
      ]
     },
     "execution_count": 19,
     "metadata": {},
     "output_type": "execute_result"
    }
   ],
   "source": [
    "#Sort the dataframe in order to find the median\n",
    "sorted_df = df.sort_values(by=['order_amount'])\n",
    "\n",
    "sorted_df.median()['order_amount']"
   ]
  },
  {
   "cell_type": "code",
   "execution_count": 20,
   "metadata": {},
   "outputs": [
    {
     "data": {
      "text/plain": [
       "153.0"
      ]
     },
     "execution_count": 20,
     "metadata": {},
     "output_type": "execute_result"
    }
   ],
   "source": [
    "df.mode()['order_amount'][0]"
   ]
  },
  {
   "cell_type": "markdown",
   "metadata": {},
   "source": []
  },
  {
   "cell_type": "markdown",
   "metadata": {},
   "source": [
    "# Question 2 a)"
   ]
  },
  {
   "cell_type": "markdown",
   "metadata": {},
   "source": [
    "```sql\n",
    "\n",
    "SELECT COUNT(ShipperID)\n",
    "FROM Orders\n",
    "WHERE ShipperID == 1;\n",
    "\n",
    "```\n",
    "\n",
    "The number of orders shipped by Speedy Express is 54"
   ]
  },
  {
   "cell_type": "markdown",
   "metadata": {},
   "source": [
    "# Question 2 b)"
   ]
  },
  {
   "cell_type": "markdown",
   "metadata": {},
   "source": [
    "```sql\n",
    "SELECT Employees.LastName \n",
    "FROM Orders \n",
    "INNER JOIN Employees ON Orders.EmployeeID=Employees.EmployeeID \n",
    "GROUP BY Employees.LastName \n",
    "ORDER BY Count(Orders.OrderID) DESC LIMIT 1;\n",
    "\n",
    "```\n",
    "\n",
    "The last name of the employee with the most orders is Peacock"
   ]
  },
  {
   "cell_type": "markdown",
   "metadata": {},
   "source": [
    "# Question 2 c)"
   ]
  },
  {
   "cell_type": "markdown",
   "metadata": {},
   "source": [
    "Slightly ambigious question in terms of the wording, are we trying to ask which product had the highest quantity ordered or the highest amount of orders placed for a single product?\n",
    "\n",
    "\n",
    "\n",
    "\n",
    "If we are trying to find the product with the highest quantity ordered then the following will work\n",
    "\n",
    "```sql\n",
    "SELECT product.ProductName, SUM(Quantity) AS QuantityOrdered\n",
    "FROM Orders AS orders, OrderDetails AS order_details, Customers AS customer, Products AS product\n",
    "WHERE customer.Country == \"Germany\" AND order_details.OrderID == orders.OrderID AND order_details.ProductID == product.ProductID AND customer.CustomerID == orders.CustomerID\n",
    "GROUP BY product.ProductID\n",
    "ORDER BY QuantityOrdered DESC\n",
    "LIMIT 1;\n",
    "```\n",
    "In this case Boston Crab Meat is the highest Quantity Ordered at 160\n",
    "\n",
    "If we are trying to find the product with the highest amount of orders placed the following will work\n",
    "\n",
    "```sql\n",
    "SELECT product.ProductName, COUNT(Quantity) AS NumberOfOrders\n",
    "FROM Orders AS orders, OrderDetails AS order_details, Customers AS customer, Products AS product\n",
    "WHERE customer.Country == \"Germany\" AND order_details.OrderID == orders.OrderID AND order_details.ProductID == product.ProductID AND customer.CustomerID == orders.CustomerID\n",
    "GROUP BY product.ProductID\n",
    "ORDER BY NumberOfOrders DESC\n",
    "LIMIT 1;\n",
    "```\n",
    "In this case Gorgonzola Telino is the product that has the most orders placed on it at 5, regardless of quanitiy ordered for each order\n",
    "\n",
    "\n"
   ]
  },
  {
   "cell_type": "code",
   "execution_count": null,
   "metadata": {},
   "outputs": [],
   "source": []
  }
 ],
 "metadata": {
  "kernelspec": {
   "display_name": "Python 3",
   "language": "python",
   "name": "python3"
  },
  "language_info": {
   "codemirror_mode": {
    "name": "ipython",
    "version": 3
   },
   "file_extension": ".py",
   "mimetype": "text/x-python",
   "name": "python",
   "nbconvert_exporter": "python",
   "pygments_lexer": "ipython3",
   "version": "3.7.4"
  }
 },
 "nbformat": 4,
 "nbformat_minor": 2
}
